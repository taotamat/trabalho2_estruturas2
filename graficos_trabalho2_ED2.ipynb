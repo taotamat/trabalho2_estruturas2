{
 "cells": [
  {
   "cell_type": "markdown",
   "id": "5d035e22",
   "metadata": {},
   "source": [
    "# Gráficos para o trabalho 2 de Estruturas de Dados II\n"
   ]
  },
  {
   "cell_type": "markdown",
   "id": "992241c1",
   "metadata": {},
   "source": [
    "<br>\n",
    "Descartes:<br>\n",
    "    TOTAL: Inserção q1: 0,TOTAL:,0.001484,1.484000\n",
    "    TOTAL: Inserção q2: 0,TOTAL:,0.001031,1.031000\n",
    "<br>"
   ]
  },
  {
   "cell_type": "code",
   "execution_count": 1,
   "id": "b3a208be",
   "metadata": {},
   "outputs": [],
   "source": [
    "import numpy as np\n",
    "import pandas as pd\n",
    "import statistics as st\n",
    "import matplotlib.pyplot as plt\n",
    "import seaborn"
   ]
  },
  {
   "cell_type": "markdown",
   "id": "732b2365",
   "metadata": {},
   "source": [
    "## QUESTÃO 01"
   ]
  },
  {
   "cell_type": "markdown",
   "id": "29c47c23",
   "metadata": {},
   "source": [
    "### CRIAÇÃO DAS TABELAS:"
   ]
  },
  {
   "cell_type": "code",
   "execution_count": 24,
   "id": "2c795537",
   "metadata": {},
   "outputs": [],
   "source": [
    "q1_insercao = pd.read_csv('q1/insercao.csv')\n",
    "q1_busca = pd.read_csv('q1/busca.csv')"
   ]
  },
  {
   "cell_type": "code",
   "execution_count": 25,
   "id": "b5495b94",
   "metadata": {},
   "outputs": [
    {
     "data": {
      "text/html": [
       "<div>\n",
       "<style scoped>\n",
       "    .dataframe tbody tr th:only-of-type {\n",
       "        vertical-align: middle;\n",
       "    }\n",
       "\n",
       "    .dataframe tbody tr th {\n",
       "        vertical-align: top;\n",
       "    }\n",
       "\n",
       "    .dataframe thead th {\n",
       "        text-align: right;\n",
       "    }\n",
       "</style>\n",
       "<table border=\"1\" class=\"dataframe\">\n",
       "  <thead>\n",
       "    <tr style=\"text-align: right;\">\n",
       "      <th></th>\n",
       "      <th>palavra</th>\n",
       "      <th>encontrado?</th>\n",
       "      <th>passos</th>\n",
       "      <th>milissegundo</th>\n",
       "      <th>segundo</th>\n",
       "    </tr>\n",
       "  </thead>\n",
       "  <tbody>\n",
       "    <tr>\n",
       "      <th>0</th>\n",
       "      <td>chain</td>\n",
       "      <td>NAO</td>\n",
       "      <td>7</td>\n",
       "      <td>0.000032</td>\n",
       "      <td>0.032</td>\n",
       "    </tr>\n",
       "    <tr>\n",
       "      <th>1</th>\n",
       "      <td>stay</td>\n",
       "      <td>NAO</td>\n",
       "      <td>7</td>\n",
       "      <td>0.000024</td>\n",
       "      <td>0.024</td>\n",
       "    </tr>\n",
       "    <tr>\n",
       "      <th>2</th>\n",
       "      <td>somebody</td>\n",
       "      <td>NAO</td>\n",
       "      <td>7</td>\n",
       "      <td>0.000028</td>\n",
       "      <td>0.028</td>\n",
       "    </tr>\n",
       "    <tr>\n",
       "      <th>3</th>\n",
       "      <td>part</td>\n",
       "      <td>NAO</td>\n",
       "      <td>7</td>\n",
       "      <td>0.000042</td>\n",
       "      <td>0.042</td>\n",
       "    </tr>\n",
       "    <tr>\n",
       "      <th>4</th>\n",
       "      <td>work</td>\n",
       "      <td>NAO</td>\n",
       "      <td>6</td>\n",
       "      <td>0.000038</td>\n",
       "      <td>0.038</td>\n",
       "    </tr>\n",
       "    <tr>\n",
       "      <th>5</th>\n",
       "      <td>wish</td>\n",
       "      <td>SIM</td>\n",
       "      <td>5</td>\n",
       "      <td>0.000090</td>\n",
       "      <td>0.090</td>\n",
       "    </tr>\n",
       "    <tr>\n",
       "      <th>6</th>\n",
       "      <td>maybe</td>\n",
       "      <td>SIM</td>\n",
       "      <td>7</td>\n",
       "      <td>0.000049</td>\n",
       "      <td>0.049</td>\n",
       "    </tr>\n",
       "    <tr>\n",
       "      <th>7</th>\n",
       "      <td>your</td>\n",
       "      <td>SIM</td>\n",
       "      <td>5</td>\n",
       "      <td>0.000112</td>\n",
       "      <td>0.112</td>\n",
       "    </tr>\n",
       "    <tr>\n",
       "      <th>8</th>\n",
       "      <td>freedom</td>\n",
       "      <td>SIM</td>\n",
       "      <td>5</td>\n",
       "      <td>0.000099</td>\n",
       "      <td>0.099</td>\n",
       "    </tr>\n",
       "    <tr>\n",
       "      <th>9</th>\n",
       "      <td>underground</td>\n",
       "      <td>SIM</td>\n",
       "      <td>4</td>\n",
       "      <td>0.000102</td>\n",
       "      <td>0.102</td>\n",
       "    </tr>\n",
       "  </tbody>\n",
       "</table>\n",
       "</div>"
      ],
      "text/plain": [
       "       palavra encontrado?  passos  milissegundo  segundo\n",
       "0        chain         NAO       7      0.000032    0.032\n",
       "1         stay         NAO       7      0.000024    0.024\n",
       "2     somebody         NAO       7      0.000028    0.028\n",
       "3         part         NAO       7      0.000042    0.042\n",
       "4         work         NAO       6      0.000038    0.038\n",
       "5         wish         SIM       5      0.000090    0.090\n",
       "6        maybe         SIM       7      0.000049    0.049\n",
       "7         your         SIM       5      0.000112    0.112\n",
       "8      freedom         SIM       5      0.000099    0.099\n",
       "9  underground         SIM       4      0.000102    0.102"
      ]
     },
     "execution_count": 25,
     "metadata": {},
     "output_type": "execute_result"
    }
   ],
   "source": [
    "q1_busca"
   ]
  },
  {
   "cell_type": "markdown",
   "id": "3a05216f",
   "metadata": {},
   "source": [
    "## QUESTÃO 02"
   ]
  },
  {
   "cell_type": "markdown",
   "id": "51dd49cf",
   "metadata": {},
   "source": [
    "### CRIAÇÃO DAS TABELAS"
   ]
  },
  {
   "cell_type": "code",
   "execution_count": 27,
   "id": "dff132ff",
   "metadata": {},
   "outputs": [],
   "source": [
    "q2_insercao = pd.read_csv('q2/insercao.csv')\n",
    "q2_busca = pd.read_csv('q2/busca.csv')"
   ]
  },
  {
   "cell_type": "code",
   "execution_count": 38,
   "id": "29fabcd9",
   "metadata": {},
   "outputs": [
    {
     "data": {
      "text/html": [
       "<div>\n",
       "<style scoped>\n",
       "    .dataframe tbody tr th:only-of-type {\n",
       "        vertical-align: middle;\n",
       "    }\n",
       "\n",
       "    .dataframe tbody tr th {\n",
       "        vertical-align: top;\n",
       "    }\n",
       "\n",
       "    .dataframe thead th {\n",
       "        text-align: right;\n",
       "    }\n",
       "</style>\n",
       "<table border=\"1\" class=\"dataframe\">\n",
       "  <thead>\n",
       "    <tr style=\"text-align: right;\">\n",
       "      <th></th>\n",
       "      <th>palavra</th>\n",
       "      <th>encontrado?</th>\n",
       "      <th>passos</th>\n",
       "      <th>milissegundo</th>\n",
       "      <th>segundo</th>\n",
       "    </tr>\n",
       "  </thead>\n",
       "  <tbody>\n",
       "    <tr>\n",
       "      <th>0</th>\n",
       "      <td>chain</td>\n",
       "      <td>NAO</td>\n",
       "      <td>7</td>\n",
       "      <td>0.000032</td>\n",
       "      <td>0.032</td>\n",
       "    </tr>\n",
       "    <tr>\n",
       "      <th>1</th>\n",
       "      <td>stay</td>\n",
       "      <td>NAO</td>\n",
       "      <td>7</td>\n",
       "      <td>0.000024</td>\n",
       "      <td>0.024</td>\n",
       "    </tr>\n",
       "    <tr>\n",
       "      <th>2</th>\n",
       "      <td>somebody</td>\n",
       "      <td>NAO</td>\n",
       "      <td>7</td>\n",
       "      <td>0.000028</td>\n",
       "      <td>0.028</td>\n",
       "    </tr>\n",
       "    <tr>\n",
       "      <th>3</th>\n",
       "      <td>part</td>\n",
       "      <td>NAO</td>\n",
       "      <td>7</td>\n",
       "      <td>0.000042</td>\n",
       "      <td>0.042</td>\n",
       "    </tr>\n",
       "    <tr>\n",
       "      <th>4</th>\n",
       "      <td>work</td>\n",
       "      <td>NAO</td>\n",
       "      <td>6</td>\n",
       "      <td>0.000038</td>\n",
       "      <td>0.038</td>\n",
       "    </tr>\n",
       "    <tr>\n",
       "      <th>5</th>\n",
       "      <td>wish</td>\n",
       "      <td>SIM</td>\n",
       "      <td>5</td>\n",
       "      <td>0.000090</td>\n",
       "      <td>0.090</td>\n",
       "    </tr>\n",
       "    <tr>\n",
       "      <th>6</th>\n",
       "      <td>maybe</td>\n",
       "      <td>SIM</td>\n",
       "      <td>7</td>\n",
       "      <td>0.000049</td>\n",
       "      <td>0.049</td>\n",
       "    </tr>\n",
       "    <tr>\n",
       "      <th>7</th>\n",
       "      <td>your</td>\n",
       "      <td>SIM</td>\n",
       "      <td>5</td>\n",
       "      <td>0.000112</td>\n",
       "      <td>0.112</td>\n",
       "    </tr>\n",
       "    <tr>\n",
       "      <th>8</th>\n",
       "      <td>freedom</td>\n",
       "      <td>SIM</td>\n",
       "      <td>5</td>\n",
       "      <td>0.000099</td>\n",
       "      <td>0.099</td>\n",
       "    </tr>\n",
       "    <tr>\n",
       "      <th>9</th>\n",
       "      <td>underground</td>\n",
       "      <td>SIM</td>\n",
       "      <td>4</td>\n",
       "      <td>0.000102</td>\n",
       "      <td>0.102</td>\n",
       "    </tr>\n",
       "  </tbody>\n",
       "</table>\n",
       "</div>"
      ],
      "text/plain": [
       "       palavra encontrado?  passos  milissegundo  segundo\n",
       "0        chain         NAO       7      0.000032    0.032\n",
       "1         stay         NAO       7      0.000024    0.024\n",
       "2     somebody         NAO       7      0.000028    0.028\n",
       "3         part         NAO       7      0.000042    0.042\n",
       "4         work         NAO       6      0.000038    0.038\n",
       "5         wish         SIM       5      0.000090    0.090\n",
       "6        maybe         SIM       7      0.000049    0.049\n",
       "7         your         SIM       5      0.000112    0.112\n",
       "8      freedom         SIM       5      0.000099    0.099\n",
       "9  underground         SIM       4      0.000102    0.102"
      ]
     },
     "execution_count": 38,
     "metadata": {},
     "output_type": "execute_result"
    }
   ],
   "source": [
    "q1_busca"
   ]
  },
  {
   "cell_type": "code",
   "execution_count": 28,
   "id": "0e4cc92b",
   "metadata": {},
   "outputs": [
    {
     "data": {
      "text/html": [
       "<div>\n",
       "<style scoped>\n",
       "    .dataframe tbody tr th:only-of-type {\n",
       "        vertical-align: middle;\n",
       "    }\n",
       "\n",
       "    .dataframe tbody tr th {\n",
       "        vertical-align: top;\n",
       "    }\n",
       "\n",
       "    .dataframe thead th {\n",
       "        text-align: right;\n",
       "    }\n",
       "</style>\n",
       "<table border=\"1\" class=\"dataframe\">\n",
       "  <thead>\n",
       "    <tr style=\"text-align: right;\">\n",
       "      <th></th>\n",
       "      <th>palavra</th>\n",
       "      <th>encontrado?</th>\n",
       "      <th>passos</th>\n",
       "      <th>milissegundo</th>\n",
       "      <th>segundo</th>\n",
       "    </tr>\n",
       "  </thead>\n",
       "  <tbody>\n",
       "    <tr>\n",
       "      <th>0</th>\n",
       "      <td>chain</td>\n",
       "      <td>NAO</td>\n",
       "      <td>5</td>\n",
       "      <td>0.000042</td>\n",
       "      <td>0.042</td>\n",
       "    </tr>\n",
       "    <tr>\n",
       "      <th>1</th>\n",
       "      <td>stay</td>\n",
       "      <td>NAO</td>\n",
       "      <td>5</td>\n",
       "      <td>0.000032</td>\n",
       "      <td>0.032</td>\n",
       "    </tr>\n",
       "    <tr>\n",
       "      <th>2</th>\n",
       "      <td>somebody</td>\n",
       "      <td>NAO</td>\n",
       "      <td>5</td>\n",
       "      <td>0.000012</td>\n",
       "      <td>0.012</td>\n",
       "    </tr>\n",
       "    <tr>\n",
       "      <th>3</th>\n",
       "      <td>part</td>\n",
       "      <td>NAO</td>\n",
       "      <td>5</td>\n",
       "      <td>0.000035</td>\n",
       "      <td>0.035</td>\n",
       "    </tr>\n",
       "    <tr>\n",
       "      <th>4</th>\n",
       "      <td>work</td>\n",
       "      <td>NAO</td>\n",
       "      <td>5</td>\n",
       "      <td>0.000027</td>\n",
       "      <td>0.027</td>\n",
       "    </tr>\n",
       "    <tr>\n",
       "      <th>5</th>\n",
       "      <td>wish</td>\n",
       "      <td>SIM</td>\n",
       "      <td>4</td>\n",
       "      <td>0.000080</td>\n",
       "      <td>0.080</td>\n",
       "    </tr>\n",
       "    <tr>\n",
       "      <th>6</th>\n",
       "      <td>maybe</td>\n",
       "      <td>SIM</td>\n",
       "      <td>4</td>\n",
       "      <td>0.000153</td>\n",
       "      <td>0.153</td>\n",
       "    </tr>\n",
       "    <tr>\n",
       "      <th>7</th>\n",
       "      <td>your</td>\n",
       "      <td>SIM</td>\n",
       "      <td>4</td>\n",
       "      <td>0.000139</td>\n",
       "      <td>0.139</td>\n",
       "    </tr>\n",
       "    <tr>\n",
       "      <th>8</th>\n",
       "      <td>freedom</td>\n",
       "      <td>SIM</td>\n",
       "      <td>3</td>\n",
       "      <td>0.000122</td>\n",
       "      <td>0.122</td>\n",
       "    </tr>\n",
       "    <tr>\n",
       "      <th>9</th>\n",
       "      <td>underground</td>\n",
       "      <td>SIM</td>\n",
       "      <td>3</td>\n",
       "      <td>0.000124</td>\n",
       "      <td>0.124</td>\n",
       "    </tr>\n",
       "  </tbody>\n",
       "</table>\n",
       "</div>"
      ],
      "text/plain": [
       "       palavra encontrado?  passos  milissegundo  segundo\n",
       "0        chain         NAO       5      0.000042    0.042\n",
       "1         stay         NAO       5      0.000032    0.032\n",
       "2     somebody         NAO       5      0.000012    0.012\n",
       "3         part         NAO       5      0.000035    0.035\n",
       "4         work         NAO       5      0.000027    0.027\n",
       "5         wish         SIM       4      0.000080    0.080\n",
       "6        maybe         SIM       4      0.000153    0.153\n",
       "7         your         SIM       4      0.000139    0.139\n",
       "8      freedom         SIM       3      0.000122    0.122\n",
       "9  underground         SIM       3      0.000124    0.124"
      ]
     },
     "execution_count": 28,
     "metadata": {},
     "output_type": "execute_result"
    }
   ],
   "source": [
    "q2_busca"
   ]
  },
  {
   "cell_type": "markdown",
   "id": "d0a4d925",
   "metadata": {},
   "source": [
    "---"
   ]
  },
  {
   "cell_type": "markdown",
   "id": "ca2cd3bf",
   "metadata": {},
   "source": [
    "### INSERÇÕES"
   ]
  },
  {
   "cell_type": "code",
   "execution_count": 14,
   "id": "48f7b73f",
   "metadata": {},
   "outputs": [],
   "source": [
    "maior_q1 = q1_insercao.sort_values('milissegundos', ascending=False).head(30)\n",
    "maior_q2 = q2_insercao.sort_values('milissegundos', ascending=False).head(30)"
   ]
  },
  {
   "cell_type": "markdown",
   "id": "19a00e39",
   "metadata": {},
   "source": [
    "#### Questão 01"
   ]
  },
  {
   "cell_type": "code",
   "execution_count": 7,
   "id": "4b0ac74a",
   "metadata": {},
   "outputs": [
    {
     "name": "stdout",
     "output_type": "stream",
     "text": [
      "\n",
      "Palavra mais demorada levou: 0.000011ms para ser inserida\n",
      "Palavra que menos demorou levou: 0.000002ms para ser inserida\n",
      "Média de tempo para inserir: 0.000003ms\n",
      "Tempo mais frequente levado: 0.000003ms\n",
      "Total de tempo para inserir todas as palavras: 0.000609ms\n",
      "Total de tempo para ler o arquivo e ainda inserir todas as palavras: 0.001484ms\n",
      "\n"
     ]
    }
   ],
   "source": [
    "# q1\n",
    "maior = max(q1_insercao.milissegundos)\n",
    "menor = min(q1_insercao.milissegundos)\n",
    "soma = sum(q1_insercao.milissegundos)\n",
    "media = st.mean(q1_insercao.milissegundos)\n",
    "moda = st.mode(q1_insercao.milissegundos)\n",
    "print()\n",
    "print(f'Palavra mais demorada levou: {maior:.6f}ms para ser inserida')\n",
    "print(f'Palavra que menos demorou levou: {menor:.6f}ms para ser inserida')\n",
    "print(f'Média de tempo para inserir: {media:.6f}ms')\n",
    "print(f'Tempo mais frequente levado: {moda:.6f}ms')\n",
    "print(f'Total de tempo para inserir todas as palavras: {soma:.6f}ms')\n",
    "print(f'Total de tempo para ler o arquivo e ainda inserir todas as palavras: {0.001484}ms')\n",
    "print()\n"
   ]
  },
  {
   "cell_type": "markdown",
   "id": "92e03d96",
   "metadata": {},
   "source": [
    "#### Questão 02"
   ]
  },
  {
   "cell_type": "code",
   "execution_count": 8,
   "id": "068df5fa",
   "metadata": {},
   "outputs": [
    {
     "name": "stdout",
     "output_type": "stream",
     "text": [
      "\n",
      "Palavra mais demorada levou: 0.000009ms para ser inserida\n",
      "Palavra que menos demorou levou: 0.000001ms para ser inserida\n",
      "Média de tempo para inserir: 0.000002ms\n",
      "Tempo mais frequente levado: 0.000002ms\n",
      "Total de tempo para inserir todas as palavras: 0.000356ms\n",
      "Total de tempo para ler o arquivo e ainda inserir todas as palavras: 0.001031ms\n",
      "\n"
     ]
    }
   ],
   "source": [
    "# q2\n",
    "maior2 = max(q2_insercao.milissegundos)\n",
    "menor2 = min(q2_insercao.milissegundos)\n",
    "soma2 = sum(q2_insercao.milissegundos)\n",
    "media2 = st.mean(q2_insercao.milissegundos)\n",
    "moda2 = st.mode(q2_insercao.milissegundos)\n",
    "print()\n",
    "print(f'Palavra mais demorada levou: {maior2:.6f}ms para ser inserida')\n",
    "print(f'Palavra que menos demorou levou: {menor2:.6f}ms para ser inserida')\n",
    "print(f'Média de tempo para inserir: {media2:.6f}ms')\n",
    "print(f'Tempo mais frequente levado: {moda2:.6f}ms')\n",
    "print(f'Total de tempo para inserir todas as palavras: {soma2:.6f}ms')\n",
    "print(f'Total de tempo para ler o arquivo e ainda inserir todas as palavras: {0.001031}ms')\n",
    "print()"
   ]
  },
  {
   "cell_type": "markdown",
   "id": "86d84f36",
   "metadata": {},
   "source": [
    "### Comparação das duas questões"
   ]
  },
  {
   "cell_type": "code",
   "execution_count": 9,
   "id": "d85566b3",
   "metadata": {},
   "outputs": [],
   "source": [
    "num = [x for x in range(1,31)]"
   ]
  },
  {
   "cell_type": "code",
   "execution_count": 12,
   "id": "49e204a3",
   "metadata": {},
   "outputs": [
    {
     "data": {
      "text/plain": [
       "<matplotlib.legend.Legend at 0x7efe256b0a90>"
      ]
     },
     "execution_count": 12,
     "metadata": {},
     "output_type": "execute_result"
    },
    {
     "data": {
      "image/png": "[encoded data removed]",
      "text/plain": [
       "<Figure size 864x576 with 1 Axes>"
      ]
     },
     "metadata": {
      "needs_background": "light"
     },
     "output_type": "display_data"
    }
   ],
   "source": [
    "plt.figure(figsize=(12,8))\n",
    "plt.title(\"Insercões dos que levaram mais tempo\",fontsize=18)\n",
    "plt.plot(num,maior_q1.milissegundos,label='arvore rubro-negra')\n",
    "plt.plot(num,maior_q2.milissegundos,label='arvore 2-3')\n",
    "plt.ylabel('tempo (ms)',fontsize=18)\n",
    "plt.legend(fontsize=18)\n",
    "#plt.savefig('insercao_1000.png')"
   ]
  },
  {
   "cell_type": "markdown",
   "id": "09bc9b77",
   "metadata": {},
   "source": [
    "### BUSCAS"
   ]
  },
  {
   "cell_type": "code",
   "execution_count": 21,
   "id": "fda27d93",
   "metadata": {},
   "outputs": [
    {
     "name": "stdout",
     "output_type": "stream",
     "text": [
      "\n",
      "Palavra mais demorada levou: 0.0001120ms para ser BUSCADA\n",
      "Palavra que menos demorou levou: 0.0000240ms para ser BUSCADA\n",
      "Média de tempo para BUSCAR: 0.0000616ms\n",
      "Tempo mais frequente levado: 0.0000320ms\n",
      "Total de tempo para BUSCAR todas as palavras: 0.0006160ms\n",
      "\n"
     ]
    }
   ],
   "source": [
    "# q1\n",
    "maior_1 = max(q1_busca.milissegundo)\n",
    "menor_1 = min(q1_busca.milissegundo)\n",
    "soma_1 = sum(q1_busca.milissegundo)\n",
    "media_1 = st.mean(q1_busca.milissegundo)\n",
    "moda_1 = st.mode(q1_busca.milissegundo)\n",
    "print()\n",
    "print(f'Palavra mais demorada levou: {maior_1:.7f}ms para ser BUSCADA')\n",
    "print(f'Palavra que menos demorou levou: {menor_1:.7f}ms para ser BUSCADA')\n",
    "print(f'Média de tempo para BUSCAR: {media_1:.7f}ms')\n",
    "print(f'Tempo mais frequente levado: {moda_1:.7f}ms')\n",
    "print(f'Total de tempo para BUSCAR todas as palavras: {soma_1:.7f}ms')\n",
    "print()"
   ]
  },
  {
   "cell_type": "code",
   "execution_count": 29,
   "id": "c92f6f21",
   "metadata": {},
   "outputs": [
    {
     "name": "stdout",
     "output_type": "stream",
     "text": [
      "\n",
      "Palavra mais demorada levou: 0.0001530ms para ser BUSCADA\n",
      "Palavra que menos demorou levou: 0.0000120ms para ser BUSCADA\n",
      "Média de tempo para BUSCAR: 0.0000766ms\n",
      "Tempo mais frequente levado: 0.0000420ms\n",
      "Total de tempo para BUSCAR todas as palavras: 0.0007660ms\n",
      "\n"
     ]
    }
   ],
   "source": [
    "# q2\n",
    "maior_2 = max(q2_busca.milissegundo)\n",
    "menor_2 = min(q2_busca.milissegundo)\n",
    "soma_2 = sum(q2_busca.milissegundo)\n",
    "media_2 = st.mean(q2_busca.milissegundo)\n",
    "moda_2 = st.mode(q2_busca.milissegundo)\n",
    "print()\n",
    "print(f'Palavra mais demorada levou: {maior_2:.7f}ms para ser BUSCADA')\n",
    "print(f'Palavra que menos demorou levou: {menor_2:.7f}ms para ser BUSCADA')\n",
    "print(f'Média de tempo para BUSCAR: {media_2:.7f}ms')\n",
    "print(f'Tempo mais frequente levado: {moda_2:.7f}ms')\n",
    "print(f'Total de tempo para BUSCAR todas as palavras: {soma_2:.7f}ms')\n",
    "print()"
   ]
  },
  {
   "cell_type": "code",
   "execution_count": 30,
   "id": "5b631d6f",
   "metadata": {},
   "outputs": [],
   "source": [
    "maior_busca_q1 = q1_busca.sort_values('milissegundo', ascending=False)\n",
    "maior_busca_q2 = q2_busca.sort_values('milissegundo', ascending=False)"
   ]
  },
  {
   "cell_type": "code",
   "execution_count": 36,
   "id": "86bddde2",
   "metadata": {},
   "outputs": [],
   "source": [
    "num_busca = [x for x in range(1,11)]"
   ]
  },
  {
   "cell_type": "code",
   "execution_count": null,
   "id": "96b0d62d",
   "metadata": {},
   "outputs": [],
   "source": [
    "num"
   ]
  },
  {
   "cell_type": "code",
   "execution_count": 37,
   "id": "e14bc050",
   "metadata": {},
   "outputs": [
    {
     "data": {
      "text/plain": [
       "<matplotlib.legend.Legend at 0x7efe23ffbfd0>"
      ]
     },
     "execution_count": 37,
     "metadata": {},
     "output_type": "execute_result"
    },
    {
     "data": {
      "image/png": "[encoded data removed]",
      "text/plain": [
       "<Figure size 864x576 with 1 Axes>"
      ]
     },
     "metadata": {
      "needs_background": "light"
     },
     "output_type": "display_data"
    }
   ],
   "source": [
    "plt.figure(figsize=(12,8))\n",
    "plt.title(\"Comparativo das buscas\",fontsize=18)\n",
    "plt.plot(num_busca,maior_busca_q1.milissegundo,label='arvore rubro-negra')\n",
    "plt.plot(num_busca,maior_busca_q2.milissegundo,label='arvore 2-3')\n",
    "plt.ylabel('tempo (ms)',fontsize=18)\n",
    "plt.legend(fontsize=18)"
   ]
  },
  {
   "cell_type": "code",
   "execution_count": null,
   "id": "feb248f6",
   "metadata": {},
   "outputs": [],
   "source": []
  }
 ],
 "metadata": {
  "kernelspec": {
   "display_name": "Python 3",
   "language": "python",
   "name": "python3"
  },
  "language_info": {
   "codemirror_mode": {
    "name": "ipython",
    "version": 3
   },
   "file_extension": ".py",
   "mimetype": "text/x-python",
   "name": "python",
   "nbconvert_exporter": "python",
   "pygments_lexer": "ipython3",
   "version": "3.8.10"
  }
 },
 "nbformat": 4,
 "nbformat_minor": 5
}
