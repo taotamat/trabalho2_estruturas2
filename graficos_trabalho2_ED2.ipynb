{
 "cells": [
  {
   "cell_type": "markdown",
   "id": "caaa8db7",
   "metadata": {},
   "source": [
    "# Gráficos para o trabalho 2 de Estruturas de Dados II\n"
   ]
  },
  {
   "cell_type": "markdown",
   "id": "6c6b4f0c",
   "metadata": {},
   "source": [
    "<br>\n",
    "Descartes:<br>\n",
    "    TOTAL: Inserção q1: 0,TOTAL:,0.001484,1.484000\n",
    "    TOTAL: Inserção q2: 0,TOTAL:,0.001031,1.031000\n",
    "<br>"
   ]
  },
  {
   "cell_type": "code",
   "execution_count": 44,
   "id": "04356623",
   "metadata": {},
   "outputs": [],
   "source": [
    "import numpy as np\n",
    "import pandas as pd\n",
    "import statistics as st\n",
    "import matplotlib.pyplot as plt\n",
    "import seaborn"
   ]
  },
  {
   "cell_type": "markdown",
   "id": "2f21f3e4",
   "metadata": {},
   "source": [
    "## QUESTÃO 01"
   ]
  },
  {
   "cell_type": "markdown",
   "id": "9a163c19",
   "metadata": {},
   "source": [
    "### CRIAÇÃO DAS TABELAS:"
   ]
  },
  {
   "cell_type": "code",
   "execution_count": 83,
   "id": "6091a2c7",
   "metadata": {},
   "outputs": [],
   "source": [
    "q1_insercao = pd.read_csv('q1/insercao.csv')\n",
    "q1_busca = pd.read_csv('q1/busca.csv')"
   ]
  },
  {
   "cell_type": "code",
   "execution_count": 60,
   "id": "6975b47b",
   "metadata": {},
   "outputs": [
    {
     "data": {
      "text/html": [
       "<div>\n",
       "<style scoped>\n",
       "    .dataframe tbody tr th:only-of-type {\n",
       "        vertical-align: middle;\n",
       "    }\n",
       "\n",
       "    .dataframe tbody tr th {\n",
       "        vertical-align: top;\n",
       "    }\n",
       "\n",
       "    .dataframe thead th {\n",
       "        text-align: right;\n",
       "    }\n",
       "</style>\n",
       "<table border=\"1\" class=\"dataframe\">\n",
       "  <thead>\n",
       "    <tr style=\"text-align: right;\">\n",
       "      <th></th>\n",
       "      <th>nmr</th>\n",
       "      <th>palavra</th>\n",
       "      <th>milissegundos</th>\n",
       "      <th>segundos</th>\n",
       "    </tr>\n",
       "  </thead>\n",
       "  <tbody>\n",
       "    <tr>\n",
       "      <th>67</th>\n",
       "      <td>68</td>\n",
       "      <td>and</td>\n",
       "      <td>0.000011</td>\n",
       "      <td>0.011</td>\n",
       "    </tr>\n",
       "    <tr>\n",
       "      <th>43</th>\n",
       "      <td>44</td>\n",
       "      <td>comes</td>\n",
       "      <td>0.000010</td>\n",
       "      <td>0.010</td>\n",
       "    </tr>\n",
       "    <tr>\n",
       "      <th>117</th>\n",
       "      <td>118</td>\n",
       "      <td>dancing</td>\n",
       "      <td>0.000007</td>\n",
       "      <td>0.007</td>\n",
       "    </tr>\n",
       "    <tr>\n",
       "      <th>170</th>\n",
       "      <td>171</td>\n",
       "      <td>oh</td>\n",
       "      <td>0.000007</td>\n",
       "      <td>0.007</td>\n",
       "    </tr>\n",
       "    <tr>\n",
       "      <th>18</th>\n",
       "      <td>19</td>\n",
       "      <td>to</td>\n",
       "      <td>0.000007</td>\n",
       "      <td>0.007</td>\n",
       "    </tr>\n",
       "    <tr>\n",
       "      <th>91</th>\n",
       "      <td>92</td>\n",
       "      <td>no</td>\n",
       "      <td>0.000007</td>\n",
       "      <td>0.007</td>\n",
       "    </tr>\n",
       "  </tbody>\n",
       "</table>\n",
       "</div>"
      ],
      "text/plain": [
       "     nmr  palavra  milissegundos  segundos\n",
       "67    68      and       0.000011     0.011\n",
       "43    44    comes       0.000010     0.010\n",
       "117  118  dancing       0.000007     0.007\n",
       "170  171       oh       0.000007     0.007\n",
       "18    19       to       0.000007     0.007\n",
       "91    92       no       0.000007     0.007"
      ]
     },
     "execution_count": 60,
     "metadata": {},
     "output_type": "execute_result"
    }
   ],
   "source": [
    "q1_insercao.sort_values('segundos', ascending=False).head(30)"
   ]
  },
  {
   "cell_type": "markdown",
   "id": "c72b0bd2",
   "metadata": {},
   "source": [
    "## QUESTÃO 02"
   ]
  },
  {
   "cell_type": "markdown",
   "id": "7c3f4f85",
   "metadata": {},
   "source": [
    "### CRIAÇÃO DAS TABELAS"
   ]
  },
  {
   "cell_type": "code",
   "execution_count": 61,
   "id": "257dd61b",
   "metadata": {},
   "outputs": [],
   "source": [
    "q2_insercao = pd.read_csv('q2/insercao.csv')\n",
    "q2_busca = pd.read_csv('q2/busca.csv')"
   ]
  },
  {
   "cell_type": "markdown",
   "id": "8ecbf76d",
   "metadata": {},
   "source": [
    "---"
   ]
  },
  {
   "cell_type": "markdown",
   "id": "54860a72",
   "metadata": {},
   "source": [
    "### INSERÇÕES"
   ]
  },
  {
   "cell_type": "code",
   "execution_count": 79,
   "id": "99cab295",
   "metadata": {},
   "outputs": [],
   "source": [
    "maior_q1 = q1_insercao.sort_values('milissegundos', ascending=False).head(30)\n",
    "maior_q2 = q2_insercao.sort_values('milissegundos', ascending=False).head(30)"
   ]
  },
  {
   "cell_type": "code",
   "execution_count": 82,
   "id": "d99cad90",
   "metadata": {},
   "outputs": [
    {
     "name": "stdout",
     "output_type": "stream",
     "text": [
      "Palavra mais demorada: {} levou {}ms para ser inserida\n"
     ]
    }
   ],
   "source": [
    "# q1\n",
    "print(\"Árvore Rubro-Negra:\")\n",
    "print(\"Palavra mais demorada: {} levou {}ms para ser inserida\")\n",
    "print(\"Palavra menos demorada: {} levou {}ms para ser inserida\")\n",
    "print(\"Tempo total levado para inserir todas as palavras: {}ms\")"
   ]
  },
  {
   "cell_type": "code",
   "execution_count": 80,
   "id": "91398ab1",
   "metadata": {},
   "outputs": [],
   "source": [
    "num = [x for x in range(1,31)]"
   ]
  },
  {
   "cell_type": "code",
   "execution_count": 81,
   "id": "2838c327",
   "metadata": {},
   "outputs": [
    {
     "data": {
      "text/plain": [
       "<matplotlib.legend.Legend at 0x7ff7dc470fa0>"
      ]
     },
     "execution_count": 81,
     "metadata": {},
     "output_type": "execute_result"
    },
    {
     "data": {
      "image/png": "[encoded data removed]",
      "text/plain": [
       "<Figure size 864x576 with 1 Axes>"
      ]
     },
     "metadata": {
      "needs_background": "light"
     },
     "output_type": "display_data"
    }
   ],
   "source": [
    "plt.figure(figsize=(12,8))\n",
    "plt.title(\"Insercões dos que levaram mais tempo\",fontsize=18)\n",
    "plt.plot(num,maior_q1.milissegundos,label='arvore rubro-negra')\n",
    "plt.plot(num,maior_q2.milissegundos,label='arvore 2-3')\n",
    "plt.ylabel('tempo (ms)',fontsize=18)\n",
    "plt.legend(fontsize=18)\n",
    "#plt.savefig('insercao_1000.png')"
   ]
  },
  {
   "cell_type": "code",
   "execution_count": null,
   "id": "e26c4165",
   "metadata": {},
   "outputs": [],
   "source": []
  },
  {
   "cell_type": "code",
   "execution_count": null,
   "id": "281a40c9",
   "metadata": {},
   "outputs": [],
   "source": []
  }
 ],
 "metadata": {
  "kernelspec": {
   "display_name": "Python 3",
   "language": "python",
   "name": "python3"
  },
  "language_info": {
   "codemirror_mode": {
    "name": "ipython",
    "version": 3
   },
   "file_extension": ".py",
   "mimetype": "text/x-python",
   "name": "python",
   "nbconvert_exporter": "python",
   "pygments_lexer": "ipython3",
   "version": "3.8.10"
  }
 },
 "nbformat": 4,
 "nbformat_minor": 5
}
